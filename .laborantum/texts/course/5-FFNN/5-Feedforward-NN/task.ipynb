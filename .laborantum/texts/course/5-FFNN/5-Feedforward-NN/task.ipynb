{
    "cells": [
        {
            "cell_type": "code",
            "execution_count": 1,
            "metadata": {
                "colab": {},
                "colab_type": "code",
                "id": "DWr6cvb9pS3J"
            },
            "outputs": [],
            "source": [
                "import torch\n",
                "import random\n",
                "import numpy as np\n",
                "import json_tricks\n",
                "import lovely_tensors as lt\n",
                "\n",
                "lt.monkey_patch()\n",
                "\n",
                "random.seed(0)\n",
                "np.random.seed(0)\n",
                "torch.manual_seed(0)\n",
                "torch.cuda.manual_seed(0)\n",
                "torch.backends.cudnn.deterministic = True\n",
                "\n",
                "answer = {}"
            ]
        },
        {
            "cell_type": "markdown",
            "metadata": {},
            "source": [
                "# Training a Fully Connected Feedforward Neural Network"
            ]
        },
        {
            "cell_type": "markdown",
            "metadata": {},
            "source": [
                "In this exercise we will train a 2-layer FCNN to classify digits into 10 classes (0, 1, 2, ..., 9).\n",
                "\n",
                "To build such network, we will use:\n",
                "- Fully Connected NN\n",
                "- Adam Optimizer\n",
                "- MNIST dataset\n",
                "- Accuracy metrics\n",
                "- Softmax final activation loss function (but we will embed it into the loss function)\n",
                "- Cross-Entropy loss"
            ]
        },
        {
            "cell_type": "markdown",
            "metadata": {},
            "source": [
                "# Task 1: Prepare the data\n",
                "\n",
                "Firstly, prepare MNIST dataset. We will use `torchvision.datasets.MNIST` for that.\n",
                "\n",
                "You have to download train and test datasets and visualize some of the images."
            ]
        },
        {
            "cell_type": "code",
            "execution_count": 2,
            "metadata": {
                "colab": {},
                "colab_type": "code",
                "id": "MqGQWTDIpS3R"
            },
            "outputs": [],
            "source": [
                "import torchvision.datasets\n",
                "\n",
                "MNIST_train = torchvision.datasets.MNIST(\n",
                "    root=\"./\",\n",
                "    train=True,\n",
                "    download=True,\n",
                "    transform=None\n",
                ")\n",
                "MNIST_test = torchvision.datasets.MNIST(\n",
                "    root=\"./\",\n",
                "    train=False,\n",
                "    download=True,\n",
                "    transform=None\n",
                ")\n"
            ]
        },
        {
            "cell_type": "markdown",
            "metadata": {},
            "source": [
                "Check that the data is prepared:"
            ]
        },
        {
            "cell_type": "code",
            "execution_count": 3,
            "metadata": {
                "colab": {},
                "colab_type": "code",
                "id": "vv_Lz7PYpS3U"
            },
            "outputs": [
                {
                    "name": "stderr",
                    "output_type": "stream",
                    "text": [
                        "/usr/local/lib/python3.11/site-packages/torchvision/datasets/mnist.py:76: UserWarning: train_data has been renamed data\n",
                        "  warnings.warn(\"train_data has been renamed data\")\n",
                        "/usr/local/lib/python3.11/site-packages/torchvision/datasets/mnist.py:66: UserWarning: train_labels has been renamed targets\n",
                        "  warnings.warn(\"train_labels has been renamed targets\")\n",
                        "/usr/local/lib/python3.11/site-packages/torchvision/datasets/mnist.py:81: UserWarning: test_data has been renamed data\n",
                        "  warnings.warn(\"test_data has been renamed data\")\n",
                        "/usr/local/lib/python3.11/site-packages/torchvision/datasets/mnist.py:71: UserWarning: test_labels has been renamed targets\n",
                        "  warnings.warn(\"test_labels has been renamed targets\")\n"
                    ]
                }
            ],
            "source": [
                "X_train = MNIST_train.train_data\n",
                "y_train = MNIST_train.train_labels\n",
                "X_test = MNIST_test.test_data\n",
                "y_test = MNIST_test.test_labels"
            ]
        },
        {
            "cell_type": "code",
            "execution_count": 4,
            "metadata": {
                "colab": {
                    "base_uri": "https://localhost:8080/",
                    "height": 35
                },
                "colab_type": "code",
                "id": "hMhsAedlrQF5",
                "outputId": "ae08bd21-79ff-48da-9886-48996a178110"
            },
            "outputs": [
                {
                    "name": "stdout",
                    "output_type": "stream",
                    "text": [
                        "torch.uint8 torch.uint8 torch.int64 torch.int64\n",
                        "torch.Size([60000, 28, 28]) torch.Size([10000, 28, 28]) torch.Size([60000]) torch.Size([10000])\n",
                        "tensor[60000, 28, 28] u8 n=47040000 (45Mb) x∈[0, 255] μ=33.318 σ=78.567\n",
                        "tensor[10000, 28, 28] u8 n=7840000 (7.5Mb) x∈[0, 255] μ=33.791 σ=79.172\n",
                        "tensor[60000] i64 0.5Mb x∈[0, 9] μ=4.454 σ=2.889\n",
                        "tensor[10000] i64 78Kb x∈[0, 9] μ=4.443 σ=2.896\n"
                    ]
                }
            ],
            "source": [
                "answer['X_train.dtype'] = str(X_train.dtype)\n",
                "answer['y_train.dtype'] = str(y_train.dtype)\n",
                "answer['X_train.shape'] = X_train.shape\n",
                "answer['X_test.shape'] = X_test.shape\n",
                "answer['y_train.shape'] = y_train.shape\n",
                "answer['y_test.shape'] = y_test.shape\n",
                "\n",
                "print(X_train.dtype, X_test.dtype, y_train.dtype, y_test.dtype)\n",
                "print(X_train.shape, X_test.shape, y_train.shape, y_test.shape)\n",
                "\n",
                "print(X_train)\n",
                "print(X_test)\n",
                "print(y_train)\n",
                "print(y_test)\n"
            ]
        },
        {
            "cell_type": "markdown",
            "metadata": {},
            "source": [
                "Neural networks are usually trained in float values. Usually in `float32` or `float16`. In this exercise we will use `float32` precision.\n",
                "\n",
                "Convert your data to `float` type"
            ]
        },
        {
            "cell_type": "code",
            "execution_count": 5,
            "metadata": {
                "colab": {},
                "colab_type": "code",
                "id": "_yTaVOrPvap6"
            },
            "outputs": [],
            "source": [
                "X_train = X_train.float()\n",
                "X_test  = X_test.float()"
            ]
        },
        {
            "cell_type": "code",
            "execution_count": 6,
            "metadata": {
                "colab": {
                    "base_uri": "https://localhost:8080/",
                    "height": 35
                },
                "colab_type": "code",
                "id": "_gfupg4kpS3X",
                "outputId": "e72c3ff4-50f7-4695-d5d5-f838e7ac2667"
            },
            "outputs": [],
            "source": [
                "answer['X_train.dtype2'] = str(X_train.dtype)\n",
                "answer['X_test.dtype2'] = str(X_test.dtype)\n"
            ]
        },
        {
            "cell_type": "markdown",
            "metadata": {},
            "source": [
                "Let us visualize the data that we have"
            ]
        },
        {
            "cell_type": "code",
            "execution_count": 7,
            "metadata": {
                "colab": {
                    "base_uri": "https://localhost:8080/",
                    "height": 365
                },
                "colab_type": "code",
                "id": "Z1tFXMwJpS3e",
                "outputId": "e7c2778b-d6f5-4718-ea28-fc8544f0416c"
            },
            "outputs": [
                {
                    "data": {
                        "image/png": "[encoded data removed]",
                        "text/plain": [
                            "<Figure size 640x480 with 1 Axes>"
                        ]
                    },
                    "metadata": {},
                    "output_type": "display_data"
                },
                {
                    "name": "stdout",
                    "output_type": "stream",
                    "text": [
                        "tensor i64 5\n"
                    ]
                }
            ],
            "source": [
                "import matplotlib.pyplot as plt\n",
                "plt.imshow(X_train[0, :, :])\n",
                "plt.show()\n",
                "print(y_train[0])"
            ]
        },
        {
            "cell_type": "markdown",
            "metadata": {},
            "source": [
                "Before we continue, our data should be normalized. Right now we have image data that was stored in int8 (from 0 to 255), and after transforming it to float, it still is in the same range.\n",
                "\n",
                "What we want is the data that has 0 mean and 1 variance.\n",
                "\n",
                "**Task**\n",
                "Scale and center your data so that it has 0 mean and 1 variance.\n",
                "\n",
                "To calculate mean and standard deviation of colors, use only training dataset!"
            ]
        },
        {
            "cell_type": "code",
            "execution_count": 8,
            "metadata": {},
            "outputs": [
                {
                    "name": "stdout",
                    "output_type": "stream",
                    "text": [
                        "tensor[60000, 28, 28] n=47040000 (0.2Gb) x∈[-0.424, 2.822] μ=2.026e-08 σ=1.000\n",
                        "tensor[10000, 28, 28] n=7840000 (30Mb) x∈[-0.424, 2.822] μ=0.006 σ=1.008\n"
                    ]
                }
            ],
            "source": [
                "mean = X_train.mean()\n",
                "std  = X_train.std()\n",
                "\n",
                "X_train = (X_train - mean) / std\n",
                "X_test  = (X_test  - mean) / std\n",
                "\n",
                "answer['X_train.mean'] = mean.detach().numpy()\n",
                "answer['X_train.std'] = std.detach().numpy()\n",
                "\n",
                "answer['X_train_normalized.mean'] = X_train.mean().detach().numpy()\n",
                "answer['X_train_normalized.std'] = X_train.std().detach().numpy()\n",
                "\n",
                "answer['X_test_normalized.mean'] = X_test.mean().detach().numpy()\n",
                "answer['X_test_normalized.std'] = X_test.std().detach().numpy()\n",
                "\n",
                "print(X_train)\n",
                "print(X_test)"
            ]
        },
        {
            "cell_type": "markdown",
            "metadata": {},
            "source": [
                "Now we should turn our data into vectors to be able to perform forward propagation.\n",
                "\n",
                "For that we will take the last two dimensions and squeeze them into one. This is done using `reshape` method.\n",
                "\n",
                "Note that after that tensor can be turned back using reshape command again.\n",
                "\n",
                "Your initial tensor has shape $N \\times 28 \\times 28$, you have to turn it to $N \\times 28^2$"
            ]
        },
        {
            "cell_type": "code",
            "execution_count": 9,
            "metadata": {
                "colab": {},
                "colab_type": "code",
                "id": "IUZgNg7zpS3j"
            },
            "outputs": [],
            "source": [
                "X_train = X_train.reshape(X_train.size(0), -1)\n",
                "X_test  = X_test.reshape(X_test.size(0),  -1)\n",
                "\n",
                "\n",
                "answer['X_train.shape2'] = X_train.shape\n",
                "answer['X_test.shape2'] = X_test.shape\n",
                "\n"
            ]
        },
        {
            "cell_type": "markdown",
            "metadata": {},
            "source": [
                "# Task 2: Build a network"
            ]
        },
        {
            "cell_type": "markdown",
            "metadata": {},
            "source": [
                "It is time to create our neural network.\n",
                "\n",
                "In pytorch to enable all the magic for training, people enherit their models from `torch.nn.Module`.\n",
                "\n",
                "This enables many utilities that will be used in the future.\n",
                "\n",
                "The main two methods that we have to fill are:\n",
                "- `__init__` method that creates all modules of Neural Network\n",
                "- `__call__` method that is used to calculate preditions\n",
                "\n",
                "Here is the network that you should create:\n",
                "- it should have the structure:\n",
                "    - Linear `28 * 28 -> n_hidden_neurons`\n",
                "    - Sigmoid\n",
                "    - Linear `n_hidden_neurons -> 10`\n",
                "- the signals that you create should traverse the initialized modules according to the order above\n",
                "\n",
                "Note that in theory, we should use a SoftMax activation in the end of this network. But in our case, this activation will be joined with the loss function due to mathematical reasons."
            ]
        },
        {
            "cell_type": "code",
            "execution_count": 10,
            "metadata": {
                "colab": {},
                "colab_type": "code",
                "id": "k7l65slppS3l"
            },
            "outputs": [],
            "source": [
                "class MNISTNet(torch.nn.Module):\n",
                "    def __init__(self, n_hidden_neurons):\n",
                "        super().__init__()\n",
                "        self.fc1 = torch.nn.Linear(28 * 28, n_hidden_neurons)\n",
                "        self.ac1 = torch.nn.Sigmoid()\n",
                "        self.fc2 = torch.nn.Linear(n_hidden_neurons, 10)\n",
                "\n",
                "    def __call__(self, signal):\n",
                "        signal = self.fc1(signal)\n",
                "        signal = self.ac1(signal)\n",
                "        signal = self.fc2(signal)\n",
                "        return signal"
            ]
        },
        {
            "cell_type": "markdown",
            "metadata": {},
            "source": [
                "Let us check that your network actually works"
            ]
        },
        {
            "cell_type": "code",
            "execution_count": 11,
            "metadata": {},
            "outputs": [],
            "source": [
                "mnist_net = MNISTNet(100)\n",
                "check_input = torch.randn(10, 28 * 28)\n",
                "check_output = mnist_net(check_input)\\\n",
                "\n",
                "answer['check_result'] = check_output.detach().numpy()"
            ]
        },
        {
            "cell_type": "markdown",
            "metadata": {},
            "source": [
                "# Task 3: Create loss function and optimizer\n",
                "\n"
            ]
        },
        {
            "cell_type": "markdown",
            "metadata": {},
            "source": [
                "Now you have to make a loss function (Cross Entropy with SoftMax in our case) and an optimizer (`AdamW` with learning rate `lr`)"
            ]
        },
        {
            "cell_type": "code",
            "execution_count": 12,
            "metadata": {
                "colab": {},
                "colab_type": "code",
                "id": "00_2j2igpS3o"
            },
            "outputs": [],
            "source": [
                "loss      = torch.nn.CrossEntropyLoss()\n",
                "optimizer = torch.optim.AdamW(mnist_net.parameters(), lr=1e-3)\n"
            ]
        },
        {
            "cell_type": "code",
            "execution_count": 13,
            "metadata": {},
            "outputs": [
                {
                    "name": "stdout",
                    "output_type": "stream",
                    "text": [
                        "CrossEntropyLoss()\n",
                        "AdamW (\n",
                        "Parameter Group 0\n",
                        "    amsgrad: False\n",
                        "    betas: (0.9, 0.999)\n",
                        "    capturable: False\n",
                        "    decoupled_weight_decay: True\n",
                        "    differentiable: False\n",
                        "    eps: 1e-08\n",
                        "    foreach: None\n",
                        "    fused: None\n",
                        "    lr: 0.001\n",
                        "    maximize: False\n",
                        "    weight_decay: 0.01\n",
                        ")\n"
                    ]
                }
            ],
            "source": [
                "answer['loss'] = str(loss)\n",
                "answer['optimizer'] = str(optimizer)\n",
                "\n",
                "print(loss)\n",
                "print(optimizer)"
            ]
        },
        {
            "cell_type": "markdown",
            "metadata": {},
            "source": [
                "# Task 4: Train the network"
            ]
        },
        {
            "cell_type": "markdown",
            "metadata": {},
            "source": [
                "Now it is time to train the network\n",
                "\n",
                "I have already created a small loop that shuffles the data.\n",
                "\n",
                "Your task is to create a training cycle for one epoch with the following steps:\n",
                "1. extracts training input and lables from shuffled training data, batch after batch\n",
                "2. switches the network to training state (`model.train()`)(will be important for batchnorms and some other modules)\n",
                "2. generates predictions from the training inputs\n",
                "3. calculates loss function that compares the predictions to the targets\n",
                "4. do backpropagation\n",
                "5. make optimization step  with optimizer\n",
                "6. reset optimizer's gradients\n",
                "7. switches the network to validation state (`model.eval()`)\n",
                "\n",
                "After running one epoch, you should:\n",
                "- make prediction for train and test sets\n",
                "- calculate accuracy for the predictions for both sets\n",
                "- calculate loss function for the predictions for both sets\n",
                "\n",
                "Note that:\n",
                "- it is important to drop the last deficient batch, but we do not do it in this exercise\n",
                "- it is easy to get the class using the prediction vector as it corresponds to the output value with maximal logit"
            ]
        },
        {
            "cell_type": "code",
            "execution_count": 14,
            "metadata": {
                "colab": {},
                "colab_type": "code",
                "id": "wZtqiGvfpS3r"
            },
            "outputs": [
                {
                    "name": "stderr",
                    "output_type": "stream",
                    "text": [
                        "100%|██████████| 5/5 [00:08<00:00,  1.70s/it]\n"
                    ]
                }
            ],
            "source": [
                "from tqdm import trange\n",
                "\n",
                "batch_size = 100\n",
                "\n",
                "device = torch.device(\"cuda\" if torch.cuda.is_available() else \"cpu\")\n",
                "\n",
                "mnist_net = mnist_net.to(device)\n",
                "\n",
                "test_accuracy_history = []\n",
                "test_loss_history = []\n",
                "\n",
                "train_accuracy_history = []\n",
                "train_loss_history = []\n",
                "\n",
                "X_test = X_test.to(device)\n",
                "y_test = y_test.to(device)\n",
                "\n",
                "for epoch in trange(5):\n",
                "    order = np.random.permutation(len(X_train))\n",
                "    \n",
                "    for start_index in range(0, len(X_train), batch_size):\n",
                "        end_index = start_index + batch_size\n",
                "        batch_idx = order[start_index:end_index]\n",
                "\n",
                "        batch_X = X_train[batch_idx].to(device)\n",
                "        batch_y = y_train[batch_idx].to(device)\n",
                "\n",
                "        mnist_net.train()\n",
                "        preds = mnist_net(batch_X)\n",
                "        l = loss(preds, batch_y)\n",
                "\n",
                "        optimizer.zero_grad() \n",
                "        l.backward()       \n",
                "        optimizer.step()      \n",
                "\n",
                "    \n",
                "    mnist_net.eval()\n",
                "    with torch.no_grad():\n",
                "        train_preds = mnist_net(X_train)\n",
                "        test_preds  = mnist_net(X_test)\n",
                "\n",
                "        train_accuracy = (train_preds.argmax(1) == y_train).float().mean()\n",
                "        test_accuracy  = (test_preds.argmax(1)  == y_test).float().mean()\n",
                "\n",
                "    train_loss_history.append(loss(train_preds, y_train).detach().numpy())\n",
                "    train_accuracy_history.append(train_accuracy.detach().numpy())\n",
                "\n",
                "    test_loss_history.append(loss(test_preds, y_test).detach().numpy())\n",
                "    test_accuracy_history.append(test_accuracy.detach().numpy())\n",
                "    "
            ]
        },
        {
            "cell_type": "code",
            "execution_count": 15,
            "metadata": {
                "colab": {},
                "colab_type": "code",
                "id": "kLnumX3SpS3u"
            },
            "outputs": [
                {
                    "data": {
                        "text/plain": [
                            "[<matplotlib.lines.Line2D at 0xffff4af61310>]"
                        ]
                    },
                    "execution_count": 15,
                    "metadata": {},
                    "output_type": "execute_result"
                },
                {
                    "data": {
                        "image/png": "[encoded data removed]",
                        "text/plain": [
                            "<Figure size 640x480 with 1 Axes>"
                        ]
                    },
                    "metadata": {},
                    "output_type": "display_data"
                }
            ],
            "source": [
                "plt.plot(train_accuracy_history)\n",
                "plt.plot(test_accuracy_history)"
            ]
        },
        {
            "cell_type": "code",
            "execution_count": 16,
            "metadata": {
                "colab": {},
                "colab_type": "code",
                "id": "-nu1318JpS3y"
            },
            "outputs": [
                {
                    "data": {
                        "text/plain": [
                            "[<matplotlib.lines.Line2D at 0xffff4afe1990>]"
                        ]
                    },
                    "execution_count": 16,
                    "metadata": {},
                    "output_type": "execute_result"
                },
                {
                    "data": {
                        "image/png": "[encoded data removed]",
                        "text/plain": [
                            "<Figure size 640x480 with 1 Axes>"
                        ]
                    },
                    "metadata": {},
                    "output_type": "display_data"
                }
            ],
            "source": [
                "plt.plot(train_loss_history)\n",
                "plt.plot(test_loss_history)"
            ]
        },
        {
            "cell_type": "code",
            "execution_count": 17,
            "metadata": {},
            "outputs": [
                {
                    "data": {
                        "text/plain": [
                            "'{\"X_train.dtype\": \"torch.uint8\", \"y_train.dtype\": \"torch.int64\", \"X_train.shape\": [60000, 28, 28], \"X_test.shape\": [10000, 28, 28], \"y_train.shape\": [60000], \"y_test.shape\": [10000], \"X_train.dtype2\": \"torch.float32\", \"X_test.dtype2\": \"torch.float32\", \"X_train.mean\": {\"__ndarray__\": 33.31842041015625, \"dtype\": \"float32\", \"shape\": []}, \"X_train.std\": {\"__ndarray__\": 78.56748962402344, \"dtype\": \"float32\", \"shape\": []}, \"X_train_normalized.mean\": {\"__ndarray__\": 2.0262010735905278e-08, \"dtype\": \"float32\", \"shape\": []}, \"X_train_normalized.std\": {\"__ndarray__\": 1.0, \"dtype\": \"float32\", \"shape\": []}, \"X_test_normalized.mean\": {\"__ndarray__\": 0.006017814856022596, \"dtype\": \"float32\", \"shape\": []}, \"X_test_normalized.std\": {\"__ndarray__\": 1.0077000856399536, \"dtype\": \"float32\", \"shape\": []}, \"X_train.shape2\": [60000, 784], \"X_test.shape2\": [10000, 784], \"check_result\": {\"__ndarray__\": [[-0.5284737348556519, -0.28433114290237427, -0.16452449560165405, 0.5217033624649048, 0.12320183962583542, 0.2524470090866089, 0.23363417387008667, 0.1627713441848755, 0.2811758518218994, 0.23872427642345428], [-0.47279733419418335, 0.03198328614234924, -0.1593954712152481, 0.3308570683002472, 0.3559451699256897, 0.2239534705877304, 0.34697815775871277, 0.4966033697128296, -0.00483675068244338, 0.14647623896598816], [-0.5591830015182495, -0.20954564213752747, -0.1550181657075882, 0.4155908226966858, 0.1803038865327835, 0.302825003862381, 0.2603289783000946, 0.5094760656356812, 0.21405193209648132, 0.03407876193523407], [-0.36596304178237915, -0.20286668837070465, -0.06322148442268372, 0.3905644416809082, 0.2210235893726349, 0.25645098090171814, 0.20746229588985443, 0.25826066732406616, 0.09037286043167114, 0.057595379650592804], [-0.5388919115066528, -0.18651379644870758, 0.004730801563709974, 0.4038562774658203, 0.16434723138809204, 0.13844195008277893, 0.23350638151168823, 0.4336417317390442, 0.30610957741737366, 0.0651845708489418], [-0.3559596538543701, -0.29504430294036865, -0.14509087800979614, 0.3212336003780365, 0.24415519833564758, 0.21203765273094177, 0.16817307472229004, 0.286795049905777, 0.19537106156349182, 0.02160247229039669], [-0.3682769238948822, -0.1362626701593399, -0.15693873167037964, 0.36147940158843994, 0.09038089215755463, 0.12489054352045059, 0.22610773146152496, 0.3731653392314911, 0.1850583702325821, 0.00909009575843811], [-0.4276905655860901, -0.24405831098556519, -0.013620126061141491, 0.3568163216114044, 0.09693404287099838, 0.15620775520801544, 0.27340438961982727, 0.31878662109375, 0.1436333805322647, 0.11013200879096985], [-0.4090876579284668, -0.174237459897995, -0.18156030774116516, 0.4651649296283722, 0.2024402767419815, 0.1443854570388794, 0.18222841620445251, 0.2644485533237457, 0.21507330238819122, 0.008087077178061008], [-0.4566141963005066, -0.2944633364677429, -0.10122025012969971, 0.4257061183452606, 0.20084328949451447, 0.27408236265182495, 0.21602202951908112, 0.39435482025146484, 0.15909655392169952, 0.09539317339658737]], \"dtype\": \"float32\", \"shape\": [10, 10], \"Corder\": true}, \"loss\": \"CrossEntropyLoss()\", \"optimizer\": \"AdamW (\\\\nParameter Group 0\\\\n    amsgrad: False\\\\n    betas: (0.9, 0.999)\\\\n    capturable: False\\\\n    decoupled_weight_decay: True\\\\n    differentiable: False\\\\n    eps: 1e-08\\\\n    foreach: None\\\\n    fused: None\\\\n    lr: 0.001\\\\n    maximize: False\\\\n    weight_decay: 0.01\\\\n)\", \"train_loss_histoory\": [{\"__ndarray__\": 0.24486953020095825, \"dtype\": \"float32\", \"shape\": []}, {\"__ndarray__\": 0.17343337833881378, \"dtype\": \"float32\", \"shape\": []}, {\"__ndarray__\": 0.13547495007514954, \"dtype\": \"float32\", \"shape\": []}, {\"__ndarray__\": 0.10944828391075134, \"dtype\": \"float32\", \"shape\": []}, {\"__ndarray__\": 0.09205318987369537, \"dtype\": \"float32\", \"shape\": []}], \"test_loss_history\": [{\"__ndarray__\": 0.24745668470859528, \"dtype\": \"float32\", \"shape\": []}, {\"__ndarray__\": 0.1846541166305542, \"dtype\": \"float32\", \"shape\": []}, {\"__ndarray__\": 0.15273451805114746, \"dtype\": \"float32\", \"shape\": []}, {\"__ndarray__\": 0.1320253163576126, \"dtype\": \"float32\", \"shape\": []}, {\"__ndarray__\": 0.11826220899820328, \"dtype\": \"float32\", \"shape\": []}], \"train_acc_history\": [{\"__ndarray__\": 0.932533323764801, \"dtype\": \"float32\", \"shape\": []}, {\"__ndarray__\": 0.9518833160400391, \"dtype\": \"float32\", \"shape\": []}, {\"__ndarray__\": 0.9625666737556458, \"dtype\": \"float32\", \"shape\": []}, {\"__ndarray__\": 0.9706833362579346, \"dtype\": \"float32\", \"shape\": []}, {\"__ndarray__\": 0.9758666753768921, \"dtype\": \"float32\", \"shape\": []}], \"test_ann_history\": [{\"__ndarray__\": 0.9309999942779541, \"dtype\": \"float32\", \"shape\": []}, {\"__ndarray__\": 0.9455000162124634, \"dtype\": \"float32\", \"shape\": []}, {\"__ndarray__\": 0.9545999765396118, \"dtype\": \"float32\", \"shape\": []}, {\"__ndarray__\": 0.9603000283241272, \"dtype\": \"float32\", \"shape\": []}, {\"__ndarray__\": 0.9648000001907349, \"dtype\": \"float32\", \"shape\": []}]}'"
                        ]
                    },
                    "execution_count": 17,
                    "metadata": {},
                    "output_type": "execute_result"
                }
            ],
            "source": [
                "answer['train_loss_histoory'] = train_loss_history\n",
                "answer['test_loss_history'] = test_loss_history\n",
                "answer['train_acc_history'] = train_accuracy_history\n",
                "answer['test_ann_history'] = test_accuracy_history\n",
                "\n",
                "json_tricks.dump(answer, '.answer.json')"
            ]
        },
        {
            "cell_type": "markdown",
            "metadata": {},
            "source": [
                "# Making the network deep"
            ]
        },
        {
            "cell_type": "markdown",
            "metadata": {},
            "source": [
                "We have built a network and a training cycle for it. And it works!\n",
                "\n",
                "In the next exercises we will create all the modules that are required to build deep networks. We will also use batchnormalization in these modules and experiment with them."
            ]
        },
        {
            "cell_type": "markdown",
            "metadata": {},
            "source": [
                "# Task 5. Create LinAct block\n",
                "\n",
                "Create a module that contains `torch.Sequential` module with:\n",
                "- Linear layer `n_channels -> n_channels`\n",
                "- Activation function (that is set to `Sigmoid` by default)\n",
                "\n",
                "Create a module `NoResidual` that is able to wrap a block of the network. It should work just like the original module, and its purpose is that we will replace it with `Residual` block in the future.\n",
                "\n",
                "After that, create DeepMNISTNet. This network should contain:\n",
                "- A Linear adapter module to project $28 \\times 28$ pixels to `n_channels`\n",
                "- `n_layers` instances of wrappers, each wrapping 2 sequential `block`-s (with correct number of channels and correct activation function)\n",
                "- A final classifier linear module that projects the signal of `n_channels` to number of classes (10 in our case)"
            ]
        },
        {
            "cell_type": "code",
            "execution_count": 18,
            "metadata": {},
            "outputs": [],
            "source": [
                "class LinAct(torch.nn.Module):\n",
                "    def __init__(self, num_channels, activation_fn=torch.nn.Sigmoid):\n",
                "        super().__init__()\n",
                "        self.linear      = torch.nn.Linear(num_channels, num_channels)\n",
                "        self.activation  = activation_fn()\n",
                "\n",
                "    def __call__(self, x):\n",
                "        return self.activation(self.linear(x))\n",
                "\n",
                "\n",
                "\n",
                "\n",
                "class NoResidual(torch.nn.Module):\n",
                "    def __init__(self, module):\n",
                "        super().__init__()\n",
                "        self.block = module           \n",
                "\n",
                "    def __call__(self, x):\n",
                "        return self.block(x)\n",
                "\n",
                "\n",
                "\n",
                "class DeepMNISTNet(torch.nn.Module):\n",
                "    def __init__(\n",
                "        self,\n",
                "        n_channels,\n",
                "        n_layers,\n",
                "        block=LinAct,\n",
                "        wrapper=NoResidual,\n",
                "        activation_fn=torch.nn.Sigmoid\n",
                "    ):\n",
                "        super().__init__()\n",
                "\n",
                "        self.adapter = torch.nn.Linear(28 * 28, n_channels)\n",
                "\n",
                "        self.layers = torch.nn.ModuleList()\n",
                "        for _ in range(n_layers):\n",
                "            inner = torch.nn.Sequential(\n",
                "                block(n_channels, activation_fn),\n",
                "                block(n_channels, activation_fn)\n",
                "            )\n",
                "            self.layers.append(wrapper(inner))\n",
                "            \n",
                "        self.classifier = torch.nn.Linear(n_channels, 10)\n",
                "\n",
                "    def __call__(self, x):\n",
                "        x = self.adapter(x)\n",
                "        for layer in self.layers:\n",
                "            x = layer(x)\n",
                "        x = self.classifier(x)\n",
                "        return x"
            ]
        },
        {
            "cell_type": "code",
            "execution_count": 19,
            "metadata": {},
            "outputs": [],
            "source": [
                "model = DeepMNISTNet(\n",
                "    n_channels=28*28, \n",
                "    n_layers=4)\n",
                "\n",
                "test_input = torch.zeros([10, 28 * 28])\n",
                "test_output = model(test_input)\n",
                "\n",
                "answer['model_deep'] = str(model)\n",
                "answer['test_output_deep'] = test_output.detach().numpy()"
            ]
        },
        {
            "cell_type": "markdown",
            "metadata": {},
            "source": [
                "# Task 6\n",
                "\n",
                "Build a residual wrapper.\n",
                "\n",
                "This layer should wrap any specified module, and the main idea of it should be that if the module works like $\\mathbf f(\\mathbf x)$, then wrapped in residual layer, it should work like $\\mathbf f(\\mathbf x) + \\mathbf x$\n",
                "\n",
                "So, the main question here is how to implement `__call__` method"
            ]
        },
        {
            "cell_type": "code",
            "execution_count": 20,
            "metadata": {},
            "outputs": [],
            "source": [
                "class Residual(torch.nn.Module):\n",
                "    def __init__(self, module):\n",
                "        super().__init__()\n",
                "        self.block = module         \n",
                "\n",
                "    def __call__(self, x):\n",
                "        return self.block(x) + x"
            ]
        },
        {
            "cell_type": "code",
            "execution_count": 21,
            "metadata": {},
            "outputs": [],
            "source": [
                "model = DeepMNISTNet(\n",
                "    n_channels=28*28, \n",
                "    n_layers=4,\n",
                "    wrapper=Residual\n",
                ")\n",
                "\n",
                "test_input = torch.randn([10, 28 * 28])\n",
                "test_output = model(test_input)\n",
                "\n",
                "answer['model_deep_residual'] = str(model)\n",
                "answer['test_output_deep_residual'] = test_output.detach().numpy()"
            ]
        },
        {
            "cell_type": "markdown",
            "metadata": {},
            "source": [
                "# Task 7\n",
                "\n",
                "Build a LinNormAct block that is similar to `LinAct`, but has a normalization module before activation function:\n",
                "- `torch.nn.Linear`\n",
                "- `torch.nn.BatchNorm1d`\n",
                "- activation function"
            ]
        },
        {
            "cell_type": "code",
            "execution_count": 22,
            "metadata": {},
            "outputs": [],
            "source": [
                "class LinNormAct(torch.nn.Module):\n",
                "    def __init__(self, num_channels, activation_fn=torch.nn.Sigmoid):\n",
                "        super().__init__()\n",
                "        self.linear      = torch.nn.Linear(num_channels, num_channels)\n",
                "        self.norm        = torch.nn.BatchNorm1d(num_channels)\n",
                "        self.activation  = activation_fn()\n",
                "\n",
                "    def __call__(self, x):\n",
                "        return self.activation(self.norm(self.linear(x)))\n",
                "\n",
                "\n",
                "\n",
                "\n",
                "model = DeepMNISTNet(\n",
                "    n_channels=28*28, \n",
                "    n_layers=4,\n",
                "    wrapper=Residual,\n",
                "    block=LinNormAct\n",
                ")\n",
                "\n",
                "test_input = torch.randn([10, 28 * 28])\n",
                "test_output = model(test_input)\n",
                "\n",
                "answer['model_deep_residual_linnormact'] = str(model)\n",
                "answer['test_output_deep_residual_linnormact'] = test_output.detach().numpy()"
            ]
        },
        {
            "cell_type": "code",
            "execution_count": 23,
            "metadata": {},
            "outputs": [
                {
                    "data": {
                        "text/plain": [
                            "'{\"X_train.dtype\": \"torch.uint8\", \"y_train.dtype\": \"torch.int64\", \"X_train.shape\": [60000, 28, 28], \"X_test.shape\": [10000, 28, 28], \"y_train.shape\": [60000], \"y_test.shape\": [10000], \"X_train.dtype2\": \"torch.float32\", \"X_test.dtype2\": \"torch.float32\", \"X_train.mean\": {\"__ndarray__\": 33.31842041015625, \"dtype\": \"float32\", \"shape\": []}, \"X_train.std\": {\"__ndarray__\": 78.56748962402344, \"dtype\": \"float32\", \"shape\": []}, \"X_train_normalized.mean\": {\"__ndarray__\": 2.0262010735905278e-08, \"dtype\": \"float32\", \"shape\": []}, \"X_train_normalized.std\": {\"__ndarray__\": 1.0, \"dtype\": \"float32\", \"shape\": []}, \"X_test_normalized.mean\": {\"__ndarray__\": 0.006017814856022596, \"dtype\": \"float32\", \"shape\": []}, \"X_test_normalized.std\": {\"__ndarray__\": 1.0077000856399536, \"dtype\": \"float32\", \"shape\": []}, \"X_train.shape2\": [60000, 784], \"X_test.shape2\": [10000, 784], \"check_result\": {\"__ndarray__\": [[-0.5284737348556519, -0.28433114290237427, -0.16452449560165405, 0.5217033624649048, 0.12320183962583542, 0.2524470090866089, 0.23363417387008667, 0.1627713441848755, 0.2811758518218994, 0.23872427642345428], [-0.47279733419418335, 0.03198328614234924, -0.1593954712152481, 0.3308570683002472, 0.3559451699256897, 0.2239534705877304, 0.34697815775871277, 0.4966033697128296, -0.00483675068244338, 0.14647623896598816], [-0.5591830015182495, -0.20954564213752747, -0.1550181657075882, 0.4155908226966858, 0.1803038865327835, 0.302825003862381, 0.2603289783000946, 0.5094760656356812, 0.21405193209648132, 0.03407876193523407], [-0.36596304178237915, -0.20286668837070465, -0.06322148442268372, 0.3905644416809082, 0.2210235893726349, 0.25645098090171814, 0.20746229588985443, 0.25826066732406616, 0.09037286043167114, 0.057595379650592804], [-0.5388919115066528, -0.18651379644870758, 0.004730801563709974, 0.4038562774658203, 0.16434723138809204, 0.13844195008277893, 0.23350638151168823, 0.4336417317390442, 0.30610957741737366, 0.0651845708489418], [-0.3559596538543701, -0.29504430294036865, -0.14509087800979614, 0.3212336003780365, 0.24415519833564758, 0.21203765273094177, 0.16817307472229004, 0.286795049905777, 0.19537106156349182, 0.02160247229039669], [-0.3682769238948822, -0.1362626701593399, -0.15693873167037964, 0.36147940158843994, 0.09038089215755463, 0.12489054352045059, 0.22610773146152496, 0.3731653392314911, 0.1850583702325821, 0.00909009575843811], [-0.4276905655860901, -0.24405831098556519, -0.013620126061141491, 0.3568163216114044, 0.09693404287099838, 0.15620775520801544, 0.27340438961982727, 0.31878662109375, 0.1436333805322647, 0.11013200879096985], [-0.4090876579284668, -0.174237459897995, -0.18156030774116516, 0.4651649296283722, 0.2024402767419815, 0.1443854570388794, 0.18222841620445251, 0.2644485533237457, 0.21507330238819122, 0.008087077178061008], [-0.4566141963005066, -0.2944633364677429, -0.10122025012969971, 0.4257061183452606, 0.20084328949451447, 0.27408236265182495, 0.21602202951908112, 0.39435482025146484, 0.15909655392169952, 0.09539317339658737]], \"dtype\": \"float32\", \"shape\": [10, 10], \"Corder\": true}, \"loss\": \"CrossEntropyLoss()\", \"optimizer\": \"AdamW (\\\\nParameter Group 0\\\\n    amsgrad: False\\\\n    betas: (0.9, 0.999)\\\\n    capturable: False\\\\n    decoupled_weight_decay: True\\\\n    differentiable: False\\\\n    eps: 1e-08\\\\n    foreach: None\\\\n    fused: None\\\\n    lr: 0.001\\\\n    maximize: False\\\\n    weight_decay: 0.01\\\\n)\", \"train_loss_histoory\": [{\"__ndarray__\": 0.24486953020095825, \"dtype\": \"float32\", \"shape\": []}, {\"__ndarray__\": 0.17343337833881378, \"dtype\": \"float32\", \"shape\": []}, {\"__ndarray__\": 0.13547495007514954, \"dtype\": \"float32\", \"shape\": []}, {\"__ndarray__\": 0.10944828391075134, \"dtype\": \"float32\", \"shape\": []}, {\"__ndarray__\": 0.09205318987369537, \"dtype\": \"float32\", \"shape\": []}], \"test_loss_history\": [{\"__ndarray__\": 0.24745668470859528, \"dtype\": \"float32\", \"shape\": []}, {\"__ndarray__\": 0.1846541166305542, \"dtype\": \"float32\", \"shape\": []}, {\"__ndarray__\": 0.15273451805114746, \"dtype\": \"float32\", \"shape\": []}, {\"__ndarray__\": 0.1320253163576126, \"dtype\": \"float32\", \"shape\": []}, {\"__ndarray__\": 0.11826220899820328, \"dtype\": \"float32\", \"shape\": []}], \"train_acc_history\": [{\"__ndarray__\": 0.932533323764801, \"dtype\": \"float32\", \"shape\": []}, {\"__ndarray__\": 0.9518833160400391, \"dtype\": \"float32\", \"shape\": []}, {\"__ndarray__\": 0.9625666737556458, \"dtype\": \"float32\", \"shape\": []}, {\"__ndarray__\": 0.9706833362579346, \"dtype\": \"float32\", \"shape\": []}, {\"__ndarray__\": 0.9758666753768921, \"dtype\": \"float32\", \"shape\": []}], \"test_ann_history\": [{\"__ndarray__\": 0.9309999942779541, \"dtype\": \"float32\", \"shape\": []}, {\"__ndarray__\": 0.9455000162124634, \"dtype\": \"float32\", \"shape\": []}, {\"__ndarray__\": 0.9545999765396118, \"dtype\": \"float32\", \"shape\": []}, {\"__ndarray__\": 0.9603000283241272, \"dtype\": \"float32\", \"shape\": []}, {\"__ndarray__\": 0.9648000001907349, \"dtype\": \"float32\", \"shape\": []}], \"model_deep\": \"DeepMNISTNet(\\\\n  (adapter): Linear(in_features=784, out_features=784, bias=True)\\\\n  (layers): ModuleList(\\\\n    (0-3): 4 x NoResidual(\\\\n      (block): Sequential(\\\\n        (0): LinAct(\\\\n          (linear): Linear(in_features=784, out_features=784, bias=True)\\\\n          (activation): Sigmoid()\\\\n        )\\\\n        (1): LinAct(\\\\n          (linear): Linear(in_features=784, out_features=784, bias=True)\\\\n          (activation): Sigmoid()\\\\n        )\\\\n      )\\\\n    )\\\\n  )\\\\n  (classifier): Linear(in_features=784, out_features=10, bias=True)\\\\n)\", \"test_output_deep\": {\"__ndarray__\": [[0.5606114864349365, -0.16511383652687073, -0.055959947407245636, 0.10593150556087494, 0.08313904702663422, 0.29899129271507263, -0.46429240703582764, 0.22448278963565826, -0.09348861873149872, -0.14300718903541565], [0.5606114864349365, -0.16511383652687073, -0.055959947407245636, 0.10593150556087494, 0.08313904702663422, 0.29899129271507263, -0.46429240703582764, 0.22448278963565826, -0.09348861873149872, -0.14300718903541565], [0.5606114864349365, -0.16511383652687073, -0.055959947407245636, 0.10593150556087494, 0.08313904702663422, 0.29899129271507263, -0.46429240703582764, 0.22448278963565826, -0.09348861873149872, -0.14300718903541565], [0.5606114864349365, -0.16511383652687073, -0.055959947407245636, 0.10593150556087494, 0.08313904702663422, 0.29899129271507263, -0.46429240703582764, 0.22448278963565826, -0.09348861873149872, -0.14300718903541565], [0.5606114864349365, -0.16511383652687073, -0.055959947407245636, 0.10593150556087494, 0.08313904702663422, 0.29899129271507263, -0.46429240703582764, 0.22448278963565826, -0.09348861873149872, -0.14300718903541565], [0.5606114864349365, -0.16511383652687073, -0.055959947407245636, 0.10593150556087494, 0.08313904702663422, 0.29899129271507263, -0.46429240703582764, 0.22448278963565826, -0.09348861873149872, -0.14300718903541565], [0.5606114864349365, -0.16511383652687073, -0.055959947407245636, 0.10593150556087494, 0.08313904702663422, 0.29899129271507263, -0.46429240703582764, 0.22448278963565826, -0.09348861873149872, -0.14300718903541565], [0.5606114864349365, -0.16511383652687073, -0.055959947407245636, 0.10593150556087494, 0.08313904702663422, 0.29899129271507263, -0.46429240703582764, 0.22448278963565826, -0.09348861873149872, -0.14300718903541565], [0.5606114864349365, -0.16511383652687073, -0.055959947407245636, 0.10593150556087494, 0.08313904702663422, 0.29899129271507263, -0.46429240703582764, 0.22448278963565826, -0.09348861873149872, -0.14300718903541565], [0.5606114864349365, -0.16511383652687073, -0.055959947407245636, 0.10593150556087494, 0.08313904702663422, 0.29899129271507263, -0.46429240703582764, 0.22448278963565826, -0.09348861873149872, -0.14300718903541565]], \"dtype\": \"float32\", \"shape\": [10, 10], \"Corder\": true}, \"model_deep_residual\": \"DeepMNISTNet(\\\\n  (adapter): Linear(in_features=784, out_features=784, bias=True)\\\\n  (layers): ModuleList(\\\\n    (0-3): 4 x Residual(\\\\n      (block): Sequential(\\\\n        (0): LinAct(\\\\n          (linear): Linear(in_features=784, out_features=784, bias=True)\\\\n          (activation): Sigmoid()\\\\n        )\\\\n        (1): LinAct(\\\\n          (linear): Linear(in_features=784, out_features=784, bias=True)\\\\n          (activation): Sigmoid()\\\\n        )\\\\n      )\\\\n    )\\\\n  )\\\\n  (classifier): Linear(in_features=784, out_features=10, bias=True)\\\\n)\", \"test_output_deep_residual\": {\"__ndarray__\": [[0.735109806060791, 0.11711835861206055, 2.3952367305755615, 0.502922534942627, 1.0294504165649414, -0.801583468914032, 1.7479525804519653, 0.26603543758392334, 0.5480422973632812, -0.19750328361988068], [0.9019345045089722, -0.13439391553401947, 2.0013599395751953, 0.557867169380188, 0.916069746017456, -0.5414325594902039, 1.986885666847229, 0.5699804425239563, -0.1422588974237442, 0.1319991499185562], [0.9844964742660522, 0.5132504105567932, 2.239860773086548, 0.30690839886665344, 0.8739330768585205, -0.39345866441726685, 2.05367374420166, 0.12736356258392334, 0.30509859323501587, 0.06585409492254257], [1.157408356666565, 0.6847776174545288, 2.1275627613067627, 0.13170789182186127, 0.4328083097934723, -0.8302715420722961, 2.2694599628448486, 0.4828948676586151, 0.32102644443511963, -0.538199782371521], [0.9833296537399292, -0.3035699725151062, 1.91598379611969, 0.27645596861839294, 1.3459166288375854, -0.14340780675411224, 2.26369309425354, 0.6935617327690125, 0.41498076915740967, -0.49262577295303345], [1.7605339288711548, 1.1289738416671753, 2.580228567123413, 0.6500942707061768, 0.8982740640640259, -0.1469946950674057, 1.8228123188018799, -0.21046259999275208, 0.9639765620231628, -0.09636178612709045], [1.4133974313735962, 0.5525933504104614, 2.1059963703155518, 0.15386733412742615, 0.9972187280654907, -0.3251291811466217, 1.675379753112793, 0.5482766032218933, 0.6058298945426941, -0.69912189245224], [1.5979760885238647, -0.22872021794319153, 2.0943942070007324, 0.6532049179077148, 1.3547860383987427, -0.8435971140861511, 1.4123866558074951, -0.12836790084838867, 0.9879522919654846, -0.6843718886375427], [1.3178967237472534, 0.45768219232559204, 1.8495923280715942, 0.11358637362718582, 0.5630989670753479, -0.41527044773101807, 1.9499008655548096, 0.04176824912428856, -0.07800200581550598, -0.5425958037376404], [1.066826343536377, 0.001501206192187965, 2.3985397815704346, 0.30499032139778137, 0.6354976296424866, -0.4668644368648529, 1.2646327018737793, 0.378478080034256, -0.34462714195251465, -0.5098419189453125]], \"dtype\": \"float32\", \"shape\": [10, 10], \"Corder\": true}, \"model_deep_residual_linnormact\": \"DeepMNISTNet(\\\\n  (adapter): Linear(in_features=784, out_features=784, bias=True)\\\\n  (layers): ModuleList(\\\\n    (0-3): 4 x Residual(\\\\n      (block): Sequential(\\\\n        (0): LinNormAct(\\\\n          (linear): Linear(in_features=784, out_features=784, bias=True)\\\\n          (norm): BatchNorm1d(784, eps=1e-05, momentum=0.1, affine=True, track_running_stats=True)\\\\n          (activation): Sigmoid()\\\\n        )\\\\n        (1): LinNormAct(\\\\n          (linear): Linear(in_features=784, out_features=784, bias=True)\\\\n          (norm): BatchNorm1d(784, eps=1e-05, momentum=0.1, affine=True, track_running_stats=True)\\\\n          (activation): Sigmoid()\\\\n        )\\\\n      )\\\\n    )\\\\n  )\\\\n  (classifier): Linear(in_features=784, out_features=10, bias=True)\\\\n)\", \"test_output_deep_residual_linnormact\": {\"__ndarray__\": [[0.10773635655641556, 0.8453330993652344, -0.9068443179130554, -0.15446418523788452, 0.9702343940734863, -2.121373414993286, -1.6803182363510132, -0.8488181233406067, -0.5014166831970215, 0.5597971677780151], [-0.12482297420501709, 0.9047186970710754, -0.9796228408813477, -0.3460077941417694, 0.8100817203521729, -1.7614214420318604, -1.690508246421814, -0.9432935118675232, -0.26524123549461365, 0.4950839877128601], [0.40801551938056946, 0.7980537414550781, -0.7209588289260864, -0.7025867700576782, 1.4691314697265625, -2.886207342147827, -1.853415608406067, -0.48286867141723633, -0.3362198770046234, 0.4548359513282776], [0.16375355422496796, 0.6289855241775513, -1.072501540184021, -0.7026905417442322, 0.7743880748748779, -2.062310218811035, -1.5350282192230225, -0.623999834060669, -0.6238196492195129, 0.5970842242240906], [0.2563241720199585, 1.362985610961914, -1.8334850072860718, -0.22433246672153473, 0.012048636563122272, -1.5744223594665527, -1.830356478691101, -0.4712567925453186, 0.36963871121406555, 0.8497880101203918], [-0.5742676258087158, 0.9081633687019348, -0.41890162229537964, -0.23778076469898224, -0.12091459333896637, -2.180222749710083, -2.286982536315918, -0.2926483452320099, 0.5883181691169739, 1.5946295261383057], [0.2022339552640915, 1.2826474905014038, -1.4902682304382324, -0.4725206792354584, 0.2833102345466614, -3.3179125785827637, -1.9704056978225708, -0.15836182236671448, -0.326009601354599, 0.7803125381469727], [0.013202094472944736, 1.4406323432922363, -0.20617815852165222, -0.616904079914093, 0.6737591028213501, -2.19944429397583, -1.6374716758728027, -0.1086534634232521, -0.8857858777046204, 1.3279749155044556], [-0.23246783018112183, 1.163353681564331, -1.1729203462600708, -0.3784624934196472, 0.21541568636894226, -1.6962214708328247, -1.0076816082000732, -0.3308471143245697, 0.8938910961151123, 1.1558107137680054], [-0.12417355924844742, 1.2704095840454102, -1.6300480365753174, -0.05417793616652489, 0.20400048792362213, -2.358135223388672, -2.283015727996826, -0.37553417682647705, -0.04093064367771149, 1.222597360610962]], \"dtype\": \"float32\", \"shape\": [10, 10], \"Corder\": true}}'"
                        ]
                    },
                    "execution_count": 23,
                    "metadata": {},
                    "output_type": "execute_result"
                }
            ],
            "source": [
                "from pprint import pprint\n",
                "\n",
                "json_tricks.dump(answer, '.answer.json')"
            ]
        },
        {
            "cell_type": "markdown",
            "metadata": {},
            "source": [
                "# Congratulations\n",
                "\n",
                "Here, obligatory part ends. With it, we have prepared the basic script to train our neural network.\n",
                "\n",
                "Nevertheless, we can do a lot of interesting experiments now:\n",
                "\n",
                "- for 100 epochs check, how does the training process go\n",
                "- check, how does the training process go for `n_layers = 1, 2, 4, 8, 16` \n",
                "- for `n_layers=16`, check, whether the network trains with and without residual connections\n",
                "- for the network with `n_layers=16`, add batch normalization layer, and check how the network trains with and without batch normalization\n",
                "- additionally, you can make bottleneck blocks out of residual blocks. Check, how much more are they efficient and how much does the quality drop when the size of internal representation is squeezed twice: `N -> N/2 -> N`\n",
                "- for the best network, add learning rate scheduling such as reduce LR on Plateau\n",
                "- for the best network, use AdamW with LookAhead (can be found as a separate package)\n",
                "\n",
                "To run these experiments, just take your training procedure that we have created, and substitute the model with a model of the interest.\n",
                "\n",
                "With such a simple networks, the experiments potentially can be run on the local machine, but I would recommend uploading this notebook to `Google Colab` and using a GPU (it may cost around 5$/month)\n",
                "\n",
                "Note that to use `CUDA` for your experiments, you have to\n",
                "- move model to `cuda` device using `.cuda()` or `.to()` methods\n",
                "- move batch tensors to `cuda` device the same way\n",
                "\n",
                "To report your results, you can use matplotlib, but there is a better options for machine learning. There are logging systems for ML that are called:\n",
                "- tensorboard\n",
                "- mlflow\n",
                "- weights and biases\n",
                "- neptune ai\n",
                "- and others\n",
                "\n",
                "I would recommend using the first two and maybe the third one. Tensorboard is a powerful tool to visualize the progress of your training process, while mlflow is a nice tool for journaling the experiments"
            ]
        },
        {
            "cell_type": "markdown",
            "metadata": {},
            "source": [
                "You can check your solutions submitting your results here:\n",
                "\n",
                "https://www.kaggle.com/competitions/digit-recognizer"
            ]
        }
    ],
    "metadata": {
        "accelerator": "GPU",
        "colab": {
            "collapsed_sections": [],
            "name": "Lesson 5 Digits Recognition Video.ipynb",
            "provenance": [],
            "version": "0.3.2"
        },
        "kernelspec": {
            "display_name": "Python (Container)",
            "language": "python",
            "name": "container_env"
        },
        "language_info": {
            "codemirror_mode": {
                "name": "ipython",
                "version": 3
            },
            "file_extension": ".py",
            "mimetype": "text/x-python",
            "name": "python",
            "nbconvert_exporter": "python",
            "pygments_lexer": "ipython3",
            "version": "3.11.12"
        }
    },
    "nbformat": 4,
    "nbformat_minor": 1
}
